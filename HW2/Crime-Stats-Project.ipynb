{
 "cells": [
  {
   "cell_type": "markdown",
   "id": "55e6b918-afac-43e8-b338-43f8ac64014f",
   "metadata": {},
   "source": [
    "##  Deep Neural Networks Project"
   ]
  },
  {
   "cell_type": "markdown",
   "id": "1a8e066d-2849-4a6e-9c71-bb98d605ae07",
   "metadata": {},
   "source": [
    "In this project, you will be working with a real-world data set from the Las Vegas Metropolitan Police Department. The dataset  contains information about the reported incidents, including the time and location of the crime, type of incident, and number of persons involved. "
   ]
  },
  {
   "cell_type": "markdown",
   "id": "9e87fac7-352a-4c39-b087-76254b5e2743",
   "metadata": {},
   "source": [
    "The dataset is downloaded from the public docket at: \n",
    "https://opendata-lvmpd.hub.arcgis.com\n",
    "\n",
    "let's read the csv file and transform the data:"
   ]
  },
  {
   "cell_type": "code",
   "execution_count": 189,
   "id": "637211a4-582f-426b-a127-c3f284463f35",
   "metadata": {},
   "outputs": [],
   "source": [
    "import torch\n",
    "import pandas as pd\n",
    "from torch.utils.data import DataLoader, Dataset, TensorDataset\n",
    "import matplotlib.pyplot as plt\n",
    "import seaborn as sns\n",
    "import numpy as np\n",
    "import torch.nn as nn\n"
   ]
  },
  {
   "cell_type": "code",
   "execution_count": 190,
   "id": "bcf40b02-80b6-4abc-a662-f7ed50a65181",
   "metadata": {},
   "outputs": [],
   "source": [
    "orig_df = pd.read_csv('datasets/LVMPD-Stats.csv', parse_dates=['ReportedOn'])"
   ]
  },
  {
   "cell_type": "code",
   "execution_count": 191,
   "id": "e1ca1d15-3955-4971-a3c4-c1a73b62edda",
   "metadata": {},
   "outputs": [],
   "source": [
    "df = pd.read_csv('datasets/LVMPD-Stats.csv', parse_dates=['ReportedOn'],\n",
    "                 usecols = ['X', 'Y', 'ReportedOn',\n",
    "                            'Area_Command','NIBRSOffenseCode',\n",
    "                            'VictimCount' ] )\n",
    "\n",
    "df['DayOfWeek'] = df['ReportedOn'].dt.day_name()\n",
    "df['Time' ]     = df['ReportedOn'].dt.hour\n",
    "df.drop(columns = 'ReportedOn', inplace=True)"
   ]
  },
  {
   "cell_type": "code",
   "execution_count": 192,
   "id": "3ddc413d-ba3f-4204-bc18-7fdd4de8d221",
   "metadata": {},
   "outputs": [],
   "source": [
    "df['X'] = df['X'] \n",
    "df['Y'] = df['Y'] \n",
    "df['Time'] = pd.factorize(df['Time'])[0]\n",
    "df['DayOfWeek'] = pd.factorize(df['DayOfWeek'])[0]\n",
    "df.Area_Command = pd.factorize(df['Area_Command'])[0]\n",
    "df.VictimCount = pd.factorize(df['VictimCount'])[0]\n",
    "df.NIBRSOffenseCode = pd.factorize(df['NIBRSOffenseCode'])[0]\n",
    "df.dropna(inplace=True)"
   ]
  },
  {
   "cell_type": "code",
   "execution_count": 193,
   "id": "a9c6162f-9686-4195-818d-950a6368c686",
   "metadata": {},
   "outputs": [],
   "source": [
    "df= df[['X', 'Y', 'Area_Command', 'NIBRSOffenseCode',\n",
    "       'DayOfWeek', 'Time','VictimCount']]"
   ]
  },
  {
   "cell_type": "code",
   "execution_count": 194,
   "id": "a90bc78a-6d1b-4fe4-a1b0-8333aec1c851",
   "metadata": {},
   "outputs": [
    {
     "data": {
      "text/plain": [
       "(275, 7)"
      ]
     },
     "execution_count": 194,
     "metadata": {},
     "output_type": "execute_result"
    }
   ],
   "source": [
    "df.values.shape"
   ]
  },
  {
   "cell_type": "markdown",
   "id": "651605b1-8d2c-4d3e-a09e-9aef6e550fc6",
   "metadata": {},
   "source": [
    "# Goal\n",
    "The goal is to build a predictive model that is trained on the following data:\n",
    "* latitude and longitude (location)\n",
    "* Hour of the day\n",
    "* Day of the week\n",
    "* Area-of-command code: The police designation of the bureau of the operation.\n",
    "* Classification code for the crime committed\n",
    "  \n",
    "The predicted variable is the number of persons involved in the accident.\n"
   ]
  },
  {
   "cell_type": "markdown",
   "id": "0e54f0b8-83f9-4db9-88f9-f5a595342069",
   "metadata": {},
   "source": [
    "## Task 1\n",
    "* print a few rows of the values in the dataframe ``df`` and explain what each column of data means. \n",
    "* identify the input and target variables\n",
    "* what is the range of values in each column? Do you need to scale, shift or normalize your data? \n"
   ]
  },
  {
   "cell_type": "code",
   "execution_count": 195,
   "id": "16d36b68",
   "metadata": {},
   "outputs": [
    {
     "name": "stdout",
     "output_type": "stream",
     "text": [
      "Max Area Command: 11\n",
      "Max Victim Count: 6\n",
      "Max NIBRSOffenseCode: 2\n",
      "Max TimeOfDay: 23\n",
      "Max DayOfWeek: 6\n"
     ]
    },
    {
     "data": {
      "text/html": [
       "<div>\n",
       "<style scoped>\n",
       "    .dataframe tbody tr th:only-of-type {\n",
       "        vertical-align: middle;\n",
       "    }\n",
       "\n",
       "    .dataframe tbody tr th {\n",
       "        vertical-align: top;\n",
       "    }\n",
       "\n",
       "    .dataframe thead th {\n",
       "        text-align: right;\n",
       "    }\n",
       "</style>\n",
       "<table border=\"1\" class=\"dataframe\">\n",
       "  <thead>\n",
       "    <tr style=\"text-align: right;\">\n",
       "      <th></th>\n",
       "      <th>X</th>\n",
       "      <th>Y</th>\n",
       "      <th>Area_Command</th>\n",
       "      <th>NIBRSOffenseCode</th>\n",
       "      <th>DayOfWeek</th>\n",
       "      <th>Time</th>\n",
       "      <th>VictimCount</th>\n",
       "    </tr>\n",
       "  </thead>\n",
       "  <tbody>\n",
       "    <tr>\n",
       "      <th>0</th>\n",
       "      <td>-115.087518</td>\n",
       "      <td>36.216702</td>\n",
       "      <td>0</td>\n",
       "      <td>0</td>\n",
       "      <td>0</td>\n",
       "      <td>0</td>\n",
       "      <td>0</td>\n",
       "    </tr>\n",
       "    <tr>\n",
       "      <th>1</th>\n",
       "      <td>-115.240172</td>\n",
       "      <td>36.189693</td>\n",
       "      <td>1</td>\n",
       "      <td>1</td>\n",
       "      <td>1</td>\n",
       "      <td>1</td>\n",
       "      <td>0</td>\n",
       "    </tr>\n",
       "    <tr>\n",
       "      <th>2</th>\n",
       "      <td>-115.143088</td>\n",
       "      <td>36.181329</td>\n",
       "      <td>2</td>\n",
       "      <td>1</td>\n",
       "      <td>2</td>\n",
       "      <td>0</td>\n",
       "      <td>1</td>\n",
       "    </tr>\n",
       "    <tr>\n",
       "      <th>3</th>\n",
       "      <td>-115.225014</td>\n",
       "      <td>36.117633</td>\n",
       "      <td>3</td>\n",
       "      <td>1</td>\n",
       "      <td>1</td>\n",
       "      <td>2</td>\n",
       "      <td>2</td>\n",
       "    </tr>\n",
       "    <tr>\n",
       "      <th>4</th>\n",
       "      <td>-115.176708</td>\n",
       "      <td>36.095967</td>\n",
       "      <td>4</td>\n",
       "      <td>1</td>\n",
       "      <td>1</td>\n",
       "      <td>3</td>\n",
       "      <td>0</td>\n",
       "    </tr>\n",
       "    <tr>\n",
       "      <th>5</th>\n",
       "      <td>-115.132162</td>\n",
       "      <td>36.100841</td>\n",
       "      <td>5</td>\n",
       "      <td>1</td>\n",
       "      <td>3</td>\n",
       "      <td>4</td>\n",
       "      <td>1</td>\n",
       "    </tr>\n",
       "    <tr>\n",
       "      <th>6</th>\n",
       "      <td>-115.176012</td>\n",
       "      <td>36.194067</td>\n",
       "      <td>1</td>\n",
       "      <td>1</td>\n",
       "      <td>4</td>\n",
       "      <td>5</td>\n",
       "      <td>2</td>\n",
       "    </tr>\n",
       "    <tr>\n",
       "      <th>7</th>\n",
       "      <td>-115.194061</td>\n",
       "      <td>36.135213</td>\n",
       "      <td>3</td>\n",
       "      <td>1</td>\n",
       "      <td>4</td>\n",
       "      <td>3</td>\n",
       "      <td>1</td>\n",
       "    </tr>\n",
       "    <tr>\n",
       "      <th>8</th>\n",
       "      <td>-115.069716</td>\n",
       "      <td>36.191304</td>\n",
       "      <td>0</td>\n",
       "      <td>1</td>\n",
       "      <td>5</td>\n",
       "      <td>6</td>\n",
       "      <td>0</td>\n",
       "    </tr>\n",
       "    <tr>\n",
       "      <th>9</th>\n",
       "      <td>-115.309341</td>\n",
       "      <td>36.074367</td>\n",
       "      <td>6</td>\n",
       "      <td>1</td>\n",
       "      <td>6</td>\n",
       "      <td>1</td>\n",
       "      <td>0</td>\n",
       "    </tr>\n",
       "  </tbody>\n",
       "</table>\n",
       "</div>"
      ],
      "text/plain": [
       "            X          Y  Area_Command  NIBRSOffenseCode  DayOfWeek  Time  \\\n",
       "0 -115.087518  36.216702             0                 0          0     0   \n",
       "1 -115.240172  36.189693             1                 1          1     1   \n",
       "2 -115.143088  36.181329             2                 1          2     0   \n",
       "3 -115.225014  36.117633             3                 1          1     2   \n",
       "4 -115.176708  36.095967             4                 1          1     3   \n",
       "5 -115.132162  36.100841             5                 1          3     4   \n",
       "6 -115.176012  36.194067             1                 1          4     5   \n",
       "7 -115.194061  36.135213             3                 1          4     3   \n",
       "8 -115.069716  36.191304             0                 1          5     6   \n",
       "9 -115.309341  36.074367             6                 1          6     1   \n",
       "\n",
       "   VictimCount  \n",
       "0            0  \n",
       "1            0  \n",
       "2            1  \n",
       "3            2  \n",
       "4            0  \n",
       "5            1  \n",
       "6            2  \n",
       "7            1  \n",
       "8            0  \n",
       "9            0  "
      ]
     },
     "execution_count": 195,
     "metadata": {},
     "output_type": "execute_result"
    }
   ],
   "source": [
    "print(\"Max Area Command:\", max(df.Area_Command))\n",
    "print(\"Max Victim Count:\", max(df.VictimCount))\n",
    "print(\"Max NIBRSOffenseCode:\", max(df.NIBRSOffenseCode))\n",
    "print(\"Max TimeOfDay:\", max(df['Time']))\n",
    "print(\"Max DayOfWeek:\", max(df['DayOfWeek']))\n",
    "df.head(10)\n",
    "# df"
   ]
  },
  {
   "cell_type": "markdown",
   "id": "b3546557",
   "metadata": {},
   "source": [
    "# Each Column\n",
    "X, Y = Longitude and Latitude coords respectively\n",
    "\n",
    "Area_Command = who responded\n",
    "\n",
    "NIBRSOffenseCode = Classification code for the crime commited\n",
    "\n",
    "DayOfWeek = What day of the week it was (E.g. Monday = 1, Sunday = 0) # Double check this\n",
    "\n",
    "Time = Hour it happened\n",
    "\n",
    "VictimCount = # of victims for that crime\n",
    "\n"
   ]
  },
  {
   "cell_type": "markdown",
   "id": "ab794c9d",
   "metadata": {},
   "source": [
    "# Input and Output Variables\n",
    "Input: X, Y, Area_Command, NIBRSOffenseCode, DayOfWeek, Time\n",
    "\n",
    "Output: VictimCount"
   ]
  },
  {
   "cell_type": "markdown",
   "id": "c8a45470",
   "metadata": {},
   "source": [
    "# What are the ranges, and do we need to scale, shift, or normalize our data?\n",
    "As far as I can tell, the ranges extend from 0-23 max, and that represents the time of day. The other input variables classify specific things like the Area Command location, the offense code, and what day it happened, so we wouldn't want to scale those values because we want to keep it true."
   ]
  },
  {
   "cell_type": "markdown",
   "id": "5549ecc9-3c0b-4efa-9a1f-340a25a1e4be",
   "metadata": {},
   "source": [
    "## Task 2 \n",
    "\n",
    "* Create two `DataLoader` objects for training and testing based on the input and output variables. Pick a reasonable batch size and verify the shape of data by iterating over the one dataset and printing the shape of the batched data. "
   ]
  },
  {
   "cell_type": "code",
   "execution_count": 196,
   "id": "d3ab75d6",
   "metadata": {},
   "outputs": [],
   "source": [
    "# class MyDataset(Dataset):\n",
    "#     def __init__(self, df):\n",
    "#         self.df = df\n",
    "        \n",
    "#     def __getitem__(self, idx):\n",
    "#         # Return a single data point from the dataset\n",
    "#         return self.df.iloc[idx]\n",
    "    \n",
    "# train_dataset = MyDataset(df)\n",
    "# test_dataset = MyDataset(df)\n",
    "# print(train_dataset.__getitem__(5))"
   ]
  },
  {
   "cell_type": "code",
   "execution_count": 197,
   "id": "0b0650fe",
   "metadata": {},
   "outputs": [
    {
     "data": {
      "text/plain": [
       "(275, 7)"
      ]
     },
     "execution_count": 197,
     "metadata": {},
     "output_type": "execute_result"
    }
   ],
   "source": [
    "df.values.shape"
   ]
  },
  {
   "cell_type": "code",
   "execution_count": 198,
   "id": "00fe4287-934b-4799-9e43-c3571acfbab4",
   "metadata": {},
   "outputs": [],
   "source": [
    "batch_size = 25\n",
    "n_iters = 3000\n",
    "\n",
    "# Take some row from 275 into train, and some into test. Smol amount for test.\n",
    "X_train = torch.Tensor(df.iloc[0:200, 0:6].values) # Row 0 - 199, Col 0 - 5\n",
    "Y_train = torch.Tensor(df.iloc[0:200, 6].values) # Row 0 - 199, Col 6\n",
    "\n",
    "X_test = torch.Tensor(df.iloc[200:275, 0:6].values) # Row 200 - 274, Col 0 - 5\n",
    "Y_test = torch.Tensor(df.iloc[200:275, 6].values) # Row 200 - 274, Col 6\n",
    "\n",
    "train_dataset = TensorDataset(X_train, Y_train)\n",
    "test_dataset = TensorDataset(X_test, Y_test)\n",
    "\n",
    "num_epochs = n_iters / (len(train_dataset) / batch_size)\n",
    "num_epochs = int(np.ceil(num_epochs))\n",
    "\n",
    "train_loader = DataLoader(dataset=train_dataset, \n",
    "                        batch_size=batch_size, \n",
    "                        shuffle=True,\n",
    "                        drop_last=True)\n",
    "\n",
    "test_loader = DataLoader(dataset=test_dataset, \n",
    "                        batch_size=batch_size, \n",
    "                        shuffle=False,\n",
    "                        drop_last=True)\n"
   ]
  },
  {
   "cell_type": "code",
   "execution_count": 199,
   "id": "f6b059b5",
   "metadata": {},
   "outputs": [
    {
     "name": "stdout",
     "output_type": "stream",
     "text": [
      "tensor([-115.1431,   36.1813,    2.0000,    1.0000,    2.0000,    0.0000])\n",
      "tensor(1.)\n",
      "Train: torch.Size([200, 6]) torch.Size([200])\n",
      "Test: torch.Size([75, 6]) torch.Size([75])\n"
     ]
    }
   ],
   "source": [
    "print(X_train[2])\n",
    "print(Y_train[2])\n",
    "\n",
    "print(\"Train:\", X_train.shape, Y_train.shape)\n",
    "print(\"Test:\", X_test.shape, Y_test.shape)"
   ]
  },
  {
   "cell_type": "markdown",
   "id": "1fb6f08c-5e70-4b14-b62c-4686d9f7aace",
   "metadata": {},
   "source": [
    "## Task 3\n",
    "In this task you will try to predict number of crime victims as a **real number**. Therefore the machine learning problem is a **regression** problem. \n",
    "\n",
    "* Define the proper loss function for this task\n",
    "* what should the size of the predicted output be?\n",
    "* explain your choice of architecture, including how many layers you will be using\n",
    "* define an optimizer for training this model, choose a proper learning rate \n",
    "* write a training loop that obtains a batch out of the  training data and calculates the forward and backward passes over the neural network. Call the optimizer to update the weights of the neural network.\n",
    "* write a for loop that continues the training over a number of epochs. At the end of each epoch, calculate the ``MSE`` error on the test data and print it.\n",
    "* is your model training well? Adjust the learning rate, hidden size of the network, and try different activation functions and number of layers to achieve the best accuracy and report it. "
   ]
  },
  {
   "cell_type": "code",
   "execution_count": 200,
   "id": "ddad9ec9",
   "metadata": {},
   "outputs": [
    {
     "name": "stdout",
     "output_type": "stream",
     "text": [
      "0\n",
      "torch.Size([25, 6])\n",
      "torch.Size([25])\n"
     ]
    }
   ],
   "source": [
    "for i, (images, labels) in enumerate(train_loader):\n",
    "    print(i)\n",
    "    print(images.shape)\n",
    "    print(labels.shape)\n",
    "    break"
   ]
  },
  {
   "cell_type": "code",
   "execution_count": 201,
   "id": "f7a0ac5c",
   "metadata": {},
   "outputs": [
    {
     "name": "stdout",
     "output_type": "stream",
     "text": [
      "tensor([1., 2., 1., 3., 0., 1., 1., 1., 1., 3., 1., 0., 0., 0., 3., 1., 0., 0.,\n",
      "        0., 1., 0., 0., 0., 1., 1.])\n",
      "torch.Size([25, 6]) torch.Size([25])\n"
     ]
    }
   ],
   "source": [
    "# Predict a real number between 0.00 - 6.00\n",
    "for i,d in enumerate(train_loader):\n",
    "    x, y = d\n",
    "    print(y)\n",
    "    break\n",
    "for x, y in train_loader:\n",
    "    print(x.shape, y.shape)\n",
    "    break"
   ]
  },
  {
   "cell_type": "code",
   "execution_count": 202,
   "id": "116382df",
   "metadata": {},
   "outputs": [],
   "source": [
    "# Loss_function should be MSE here?\n",
    "loss_function = nn.MSELoss()\n",
    "# loss_function = nn.CrossEntropyLoss()"
   ]
  },
  {
   "cell_type": "code",
   "execution_count": 203,
   "id": "46fdaca1",
   "metadata": {},
   "outputs": [],
   "source": [
    "# Input dim should be (batch_size, 6)\n",
    "# Output dim should be (batch_size, 1)\n",
    "class FFNN(nn.Module):\n",
    "    def __init__(self, input_dim, hidden_dim, output_dim):\n",
    "        super(FFNN, self).__init__()\n",
    "\n",
    "        # Non-linearity\n",
    "        self.activation = nn.Sigmoid() # Sigmoid for regression? Softmax for Multiclass Classifcation?\n",
    "        # Create a new activation here with Relu for positive numbers only on last layer\n",
    "        self.activation_relu = nn.ReLU()\n",
    "        \n",
    "        # Input Layer \n",
    "        self.fc1 = nn.Linear(input_dim, hidden_dim) \n",
    "        \n",
    "        # Hidden Layer \n",
    "        self.fc2 = nn.Linear(hidden_dim, hidden_dim) \n",
    "        \n",
    "        self.fc4 = nn.Linear(hidden_dim, hidden_dim)\n",
    "\n",
    "        # Output Layer \n",
    "        self.fc3 = nn.Linear(hidden_dim, output_dim)\n",
    "    \n",
    "    def forward(self, x):\n",
    "        h1 = self.activation(self.fc1(x))\n",
    "        h2 = self.activation(self.fc2(h1))\n",
    "        h3 = self.activation(self.fc4(h2))\n",
    "        final = h3\n",
    "        out = self.activation_relu(self.fc3(final)) # Use different activation here\n",
    "        return out"
   ]
  },
  {
   "cell_type": "code",
   "execution_count": 204,
   "id": "3d1bc7ea",
   "metadata": {},
   "outputs": [
    {
     "data": {
      "text/plain": [
       "FFNN(\n",
       "  (activation): Sigmoid()\n",
       "  (activation_relu): ReLU()\n",
       "  (fc1): Linear(in_features=6, out_features=50, bias=True)\n",
       "  (fc2): Linear(in_features=50, out_features=50, bias=True)\n",
       "  (fc4): Linear(in_features=50, out_features=50, bias=True)\n",
       "  (fc3): Linear(in_features=50, out_features=1, bias=True)\n",
       ")"
      ]
     },
     "execution_count": 204,
     "metadata": {},
     "output_type": "execute_result"
    }
   ],
   "source": [
    "# Activation should be Sigmoid here?\n",
    "model = FFNN(6, 50, 1) # 6 input dimension, 50 hidden layer dimension, 1 output dimension\n",
    "model"
   ]
  },
  {
   "cell_type": "code",
   "execution_count": 205,
   "id": "88907c63",
   "metadata": {},
   "outputs": [],
   "source": [
    "optimizer = torch.optim.Adam(model.parameters(), lr=0.01)"
   ]
  },
  {
   "cell_type": "code",
   "execution_count": 206,
   "id": "149f7bdc",
   "metadata": {},
   "outputs": [
    {
     "name": "stderr",
     "output_type": "stream",
     "text": [
      "/opt/homebrew/lib/python3.11/site-packages/torch/nn/modules/loss.py:535: UserWarning: Using a target size (torch.Size([25])) that is different to the input size (torch.Size([25, 1])). This will likely lead to incorrect results due to broadcasting. Please ensure they have the same size.\n",
      "  return F.mse_loss(input, target, reduction=self.reduction)\n"
     ]
    },
    {
     "name": "stderr",
     "output_type": "stream",
     "text": [
      "/opt/homebrew/lib/python3.11/site-packages/torch/nn/modules/loss.py:535: UserWarning: Using a target size (torch.Size([25, 1])) that is different to the input size (torch.Size([25])). This will likely lead to incorrect results due to broadcasting. Please ensure they have the same size.\n",
      "  return F.mse_loss(input, target, reduction=self.reduction)\n"
     ]
    },
    {
     "name": "stdout",
     "output_type": "stream",
     "text": [
      "Iteration: 500. Loss: 0.5126314163208008. MSE: 1.7101861238479614\n",
      "Iteration: 1000. Loss: 0.7661256194114685. MSE: 1.732944130897522\n",
      "Iteration: 1500. Loss: 0.26911553740501404. MSE: 1.7124605178833008\n",
      "Iteration: 2000. Loss: 0.5494588613510132. MSE: 1.707145094871521\n",
      "Iteration: 2500. Loss: 0.9742939472198486. MSE: 1.7225908041000366\n",
      "Iteration: 3000. Loss: 0.5674101710319519. MSE: 1.714199185371399\n",
      "Regression Prediction: tensor([0.6514, 0.6514, 0.6514, 0.6514, 0.6514, 0.6514, 0.6514, 0.6514, 0.6514,\n",
      "        0.6514, 0.6514, 0.6514, 0.6514, 0.6514, 0.6514, 0.6514, 0.6514, 0.6514,\n",
      "        0.6514, 0.6514, 0.6514, 0.6514, 0.6514, 0.6514, 0.6514],\n",
      "       grad_fn=<SqueezeBackward0>)\n"
     ]
    }
   ],
   "source": [
    "iter = 0\n",
    "for epoch in range(num_epochs):\n",
    "    for i, (images, labels) in enumerate(train_loader):\n",
    "        # Load images with gradient accumulation capabilities\n",
    "        images = images.view(batch_size, -1).requires_grad_() # Does .view just flip the dimensions?\n",
    "        # print(\"image shape:\", images.shape)\n",
    "        # images.reshape(images.shape)\n",
    "        \n",
    "        # Clear gradients w.r.t. parameters\n",
    "        optimizer.zero_grad()\n",
    "        \n",
    "        # Forward pass to get output/logits\n",
    "        prediction = model(images) # [40, 10] for 40 batch size, 10 numbers\n",
    "        # prediction = prediction.squeeze() # Turns it from (batch, 1) -> (batch)\n",
    "        # print(\"prediction shape:\", prediction.shape)\n",
    "        # print(\"labels shape:\", labels.shape)\n",
    "        # print(prediction[i])\n",
    "        \n",
    "        # Calculate Loss: softmax --> cross entropy loss\n",
    "        loss = loss_function(prediction, labels)\n",
    "        \n",
    "        # Getting gradients w.r.t. parameters\n",
    "        loss.backward()\n",
    "        \n",
    "        # Updating parameters\n",
    "        optimizer.step()\n",
    "        \n",
    "        iter += 1\n",
    "        \n",
    "        # Every 500 iterations\n",
    "        if iter % 500 == 0:\n",
    "            images = images.view(batch_size, -1).requires_grad_()\n",
    "            # print(images.shape, labels.shape)\n",
    "            \n",
    "            # Forward pass only to get logits/output\n",
    "            outputs = model(images) # Only printing 1s?\n",
    "            \n",
    "            # Get predictions\n",
    "            predicted = outputs.data\n",
    "            \n",
    "            # Calculate Accuracy         \n",
    "            correct = 0\n",
    "            total = 0\n",
    "            # Iterate through test dataset\n",
    "            for images, labels in test_loader:\n",
    "                mse = loss_function(labels, prediction)\n",
    "            \n",
    "            # Print Loss\n",
    "            print('Iteration: {}. Loss: {}. MSE: {}'.format(iter, loss.item(), mse))\n",
    "print(\"Regression Prediction:\", prediction.squeeze())"
   ]
  },
  {
   "cell_type": "markdown",
   "id": "86e3fc70-c6ce-4589-9930-128951290e8d",
   "metadata": {},
   "source": [
    "## Task 4 \n",
    "\n",
    "In this task, you will try to predict the number of crime victims as a **class number**. Therefore the machine learning problem is a **classification** problem. \n",
    "\n",
    "* Repeat all the steps in task 3. Specifically, pay attention to the differences with regression.\n",
    "* How would you find the number of classes on the output data?\n",
    "* How is the architecture different?\n",
    "* How is the loss function different?\n",
    "* Calculate the Accuracy for test data as the number of correct classified outputs divided by the total number of test data in each epoch. Report it at the end of each epoch\n",
    "* Try a few variations of learning rate, hidden dimensions, layers, etc. What is the best accuracy that you can get? "
   ]
  },
  {
   "cell_type": "code",
   "execution_count": 207,
   "id": "7d929c52-af34-4081-92cd-3463a3fc4db1",
   "metadata": {},
   "outputs": [
    {
     "name": "stdout",
     "output_type": "stream",
     "text": [
      "tensor([1., 0., 1., 1., 1., 1., 0., 0., 1., 0., 0., 1., 1., 1., 1., 0., 0., 0.,\n",
      "        1., 1., 0., 1., 0., 1., 0.])\n",
      "torch.Size([25, 6]) torch.Size([25])\n",
      "tensor([3., 1., 0., 0., 1., 0., 0., 0., 1., 0., 0., 3., 0., 3., 0., 0., 3., 3.,\n",
      "        1., 3., 3., 1., 3., 0., 0.])\n",
      "tensor([1., 0., 0., 0., 0., 0., 0., 1., 0., 1., 1., 1., 0., 0., 1., 1., 2., 2.,\n",
      "        0., 1., 0., 5., 1., 1., 1.])\n",
      "tensor([0., 0., 0., 0., 0., 6., 0., 0., 0., 0., 1., 1., 0., 0., 1., 1., 1., 1.,\n",
      "        3., 1., 0., 0., 2., 0., 1.])\n"
     ]
    }
   ],
   "source": [
    "# Predict a whole number between 0 - 6\n",
    "for i,d in enumerate(train_loader):\n",
    "    x, y = d\n",
    "    print(y)\n",
    "    break\n",
    "for x, y in train_loader:\n",
    "    print(x.shape, y.shape)\n",
    "    break\n",
    "for i, d in enumerate(test_loader):\n",
    "    x, y = d\n",
    "    print(y)"
   ]
  },
  {
   "cell_type": "code",
   "execution_count": 208,
   "id": "b531b8d0",
   "metadata": {},
   "outputs": [],
   "source": [
    "loss_function = nn.CrossEntropyLoss()"
   ]
  },
  {
   "cell_type": "code",
   "execution_count": 209,
   "id": "9873f647",
   "metadata": {},
   "outputs": [],
   "source": [
    "# Input dim should be (batch_size, 6)\n",
    "# Output dim should be (batch_size, 1)\n",
    "class FFNN(nn.Module):\n",
    "    def __init__(self, input_dim, hidden_dim, output_dim):\n",
    "        super(FFNN, self).__init__()\n",
    "\n",
    "        # Non-linearity\n",
    "        self.activation = nn.Softmax(dim=-1) # Sigmoid for regression? Softmax for Multiclass Classifcation?\n",
    "        # Create a new activation here with Relu for positive numbers only on last layer\n",
    "        self.activation_relu = nn.ReLU()\n",
    "        \n",
    "        # Input Layer \n",
    "        self.fc1 = nn.Linear(input_dim, hidden_dim) \n",
    "        \n",
    "        # Hidden Layer \n",
    "        self.fc2 = nn.Linear(hidden_dim, hidden_dim) \n",
    "        \n",
    "        self.fc4 = nn.Linear(hidden_dim, hidden_dim)\n",
    "\n",
    "        # Output Layer \n",
    "        self.fc3 = nn.Linear(hidden_dim, output_dim)\n",
    "    \n",
    "    def forward(self, x):\n",
    "        h1 = self.activation_relu(self.fc1(x))\n",
    "        h2 = self.activation_relu(self.fc2(h1))\n",
    "        h3 = self.activation_relu(self.fc4(h2))\n",
    "        final = h3\n",
    "        out = self.activation(self.fc3(final)) # Softmax activation on output for classification problems?\n",
    "        return out"
   ]
  },
  {
   "cell_type": "code",
   "execution_count": 210,
   "id": "71019670",
   "metadata": {},
   "outputs": [
    {
     "data": {
      "text/plain": [
       "FFNN(\n",
       "  (activation): Softmax(dim=-1)\n",
       "  (activation_relu): ReLU()\n",
       "  (fc1): Linear(in_features=6, out_features=50, bias=True)\n",
       "  (fc2): Linear(in_features=50, out_features=50, bias=True)\n",
       "  (fc4): Linear(in_features=50, out_features=50, bias=True)\n",
       "  (fc3): Linear(in_features=50, out_features=7, bias=True)\n",
       ")"
      ]
     },
     "execution_count": 210,
     "metadata": {},
     "output_type": "execute_result"
    }
   ],
   "source": [
    "# Activation should be Softmax here?\n",
    "model = FFNN(6, 50, 7) # 6 input dimension, 50 hidden layer dimension, 1 output dimension\n",
    "model"
   ]
  },
  {
   "cell_type": "code",
   "execution_count": 211,
   "id": "16c6fc8d",
   "metadata": {},
   "outputs": [],
   "source": [
    "optimizer = torch.optim.Adam(model.parameters(), lr=0.01)"
   ]
  },
  {
   "cell_type": "code",
   "execution_count": 212,
   "id": "7bf63546",
   "metadata": {},
   "outputs": [
    {
     "name": "stdout",
     "output_type": "stream",
     "text": [
      "Iteration: 500. Loss: 1.8454222679138184. Accuracy: 49.33333206176758\n",
      "Iteration: 1000. Loss: 1.5654220581054688. Accuracy: 49.33333206176758\n",
      "Iteration: 1500. Loss: 1.4854220151901245. Accuracy: 49.33333206176758\n",
      "Iteration: 2000. Loss: 1.6054222583770752. Accuracy: 49.33333206176758\n",
      "Iteration: 2500. Loss: 1.5654221773147583. Accuracy: 49.33333206176758\n",
      "Iteration: 3000. Loss: 1.7254222631454468. Accuracy: 49.33333206176758\n",
      "Classification Predictions: tensor([0, 0, 0, 0, 0, 0, 0, 0, 0, 0, 0, 0, 0, 0, 0, 0, 0, 0, 0, 0, 0, 0, 0, 0,\n",
      "        0])\n"
     ]
    }
   ],
   "source": [
    "iter = 0\n",
    "for epoch in range(num_epochs):\n",
    "    for i, (images, labels) in enumerate(train_loader):\n",
    "        # Load images with gradient accumulation capabilities\n",
    "        images = images.view(batch_size, -1).requires_grad_()\n",
    "        \n",
    "        # Clear gradients w.r.t. parameters\n",
    "        optimizer.zero_grad()\n",
    "        # Forward pass to get output/logits\n",
    "        prediction = model(images)\n",
    "        prediction = prediction.squeeze() # Changes from (batch_size, 1) -> (batch_size)\n",
    "        \n",
    "        # Calculate Loss: softmax --> cross entropy loss\n",
    "        loss = loss_function(prediction, labels.long())\n",
    "        \n",
    "        # Getting gradients w.r.t. parameters\n",
    "        loss.backward()\n",
    "        \n",
    "        # Updating parameters\n",
    "        optimizer.step()\n",
    "        \n",
    "        iter += 1\n",
    "        \n",
    "        # Every 500 iterations\n",
    "        if iter % 500 == 0:\n",
    "            # Calculate Accuracy         \n",
    "            correct = 0\n",
    "            total = 0\n",
    "            # Iterate through test dataset\n",
    "            for images, labels in test_loader:\n",
    "                # Load images with gradient accumulation capabilities\n",
    "                images = images.view(batch_size, -1).requires_grad_()\n",
    "                # print(images.shape, labels.shape)\n",
    "                \n",
    "                # Forward pass only to get logits/output\n",
    "                outputs = model(images) # Only printing 1s?\n",
    "                \n",
    "                # Get predictions\n",
    "                _,predicted = torch.max(outputs.data, dim=1)\n",
    "                \n",
    "                # Reshape either predicted or labels into the other\n",
    "                # predicted = predicted.view(1, -1)\n",
    "                 \n",
    "                # Total number of labels\n",
    "                total += labels.size(0)\n",
    "                # Total correct predictions\n",
    "                correct += (predicted == labels).sum()\n",
    "            accuracy = 100 * correct / total\n",
    "            \n",
    "            # Print Loss\n",
    "            print('Iteration: {}. Loss: {}. Accuracy: {}'.format(iter, loss.item(), accuracy))\n",
    "print(\"Classification Predictions:\", predicted)"
   ]
  },
  {
   "cell_type": "markdown",
   "id": "84d2a304-6197-4cd9-b31e-745f7862f213",
   "metadata": {},
   "source": [
    "## Task 5"
   ]
  },
  {
   "cell_type": "markdown",
   "id": "d6e4ef16-d828-45e5-bd58-1c49fcfecf52",
   "metadata": {},
   "source": [
    "### Reflect on your results\n",
    "\n",
    "* Write a paragraph about your experience with tasks 3 and 4. How do you compare the results? Which one worked better? Why?\n",
    "* Write a piece of code that finds an example of a  miss-classification. Calculate the probabilities for the output classes and plot them in a bar chart. Also, indicate what is the correct class label."
   ]
  },
  {
   "cell_type": "markdown",
   "id": "215d605a",
   "metadata": {},
   "source": [
    "My experience with tasks 3 and 4 were **PAINFUL**. I compared the results by looking at one prediction array from each and checking the ranges of predictions. It's hard to say which one works better because they have different use cases, but if I had to pick one, I would say the Regression model because it predicted mostly 0.00 - 1.00, which makes sense since most of the victims fell between those numbers, compared to our Classifcation model, which either printed all 0s or all 1s in my case. On average, my Regression model was predicting 0.6752 victims, which I feel is more information than predicting 0 victims constantly. "
   ]
  },
  {
   "cell_type": "code",
   "execution_count": 213,
   "id": "663723b9",
   "metadata": {},
   "outputs": [
    {
     "data": {
      "image/png": "[encoded data removed]",
      "text/plain": [
       "<Figure size 800x800 with 1 Axes>"
      ]
     },
     "metadata": {},
     "output_type": "display_data"
    },
    {
     "name": "stdout",
     "output_type": "stream",
     "text": [
      "Misclassified Example Index: 0\n",
      "Correct Class Label: 3.0\n",
      "Predicted Class[0] Probabilities: 0.31\n",
      "Predicted Class[1] Probabilities: 0.11\n",
      "Predicted Class[2] Probabilities: 0.11\n",
      "Predicted Class[3] Probabilities: 0.11\n",
      "Predicted Class[4] Probabilities: 0.11\n",
      "Predicted Class[5] Probabilities: 0.11\n",
      "Predicted Class[6] Probabilities: 0.11\n"
     ]
    }
   ],
   "source": [
    "for epoch in range(num_epochs):\n",
    "    for i, (images, labels) in enumerate(train_loader):\n",
    "        optimizer.zero_grad()\n",
    "        prediction = model(images)\n",
    "        loss = loss_function(prediction, labels.long())\n",
    "        loss.backward()\n",
    "        optimizer.step()\n",
    "\n",
    "# Find a misclassified example and calculate probabilities\n",
    "misclassified_idx = -1  # Initialize with an invalid index\n",
    "\n",
    "with torch.no_grad():\n",
    "    for i, (inputs, labels) in enumerate(test_loader):\n",
    "        outputs = model(inputs)\n",
    "        _, predicted = torch.max(outputs.data, dim=1)  # Get the class with the highest probability\n",
    "\n",
    "        misclassified = (predicted != labels)\n",
    "        misclassified_idx = misclassified.nonzero()\n",
    "\n",
    "        if misclassified_idx.numel() > 0:\n",
    "            misclassified_idx = misclassified_idx[0].item()  # Get the first misclassified example\n",
    "            break\n",
    "\n",
    "# Get the correct class label for the misclassified example\n",
    "correct_class_label = Y_test[misclassified_idx].item()\n",
    "\n",
    "# Get the predicted class probabilities\n",
    "probs = torch.softmax(outputs[misclassified_idx], dim=0).tolist()\n",
    "\n",
    "# Plot the predicted probabilities in a bar chart\n",
    "class_names = [f\"Class {i}\" for i in range(7)]  # Modify as needed based on your classes\n",
    "\n",
    "plt.figure(figsize=(8, 8))\n",
    "plt.bar(class_names, probs)\n",
    "plt.xlabel('Class')\n",
    "plt.ylabel('Probability')\n",
    "plt.title('Class Probabilities for Misclassified Example')\n",
    "plt.xticks(rotation=45)\n",
    "plt.show()\n",
    "\n",
    "print(f\"Misclassified Example Index: {misclassified_idx}\")\n",
    "print(f\"Correct Class Label: {correct_class_label}\")\n",
    "probability = [f\"Predicted Class[{i}] Probabilities: {probs[i]:.2f}\" for i in range(7)]\n",
    "print('\\n'.join(probability))"
   ]
  },
  {
   "cell_type": "markdown",
   "id": "5b000b0b-fa37-4f8d-8ec7-0a1e6e749424",
   "metadata": {},
   "source": [
    "## Task 6: Exploring the patterns in raw data\n",
    "\n",
    "* Plot the crime incidents as a `scatter` plot using the corrdinates. Use the color property of each datapoint to indicate the day of the week. Is there a pattern in the plot?\n",
    "* Now make a new scatter plot and use the color property of each datapoint to indicate the number of persons involved in the incident. Is there a pattern here?\n",
    "* use numpy (or pandas if you like) to sort the number of crimes reported by the day of the week. What days are most frequent?\n"
   ]
  },
  {
   "cell_type": "code",
   "execution_count": 214,
   "id": "5b396aaf-5d1a-49cd-ae1d-b63af7e561f5",
   "metadata": {},
   "outputs": [
    {
     "data": {
      "image/png": "[encoded data removed]",
      "text/plain": [
       "<Figure size 800x800 with 1 Axes>"
      ]
     },
     "metadata": {},
     "output_type": "display_data"
    }
   ],
   "source": [
    "# Create a dictionary to map days of the week to colors\n",
    "color_mapping = {\n",
    "    0: 'red',\n",
    "    1: 'blue',\n",
    "    2: 'green',\n",
    "    3: 'orange',\n",
    "    4: 'purple',\n",
    "    5: 'brown',\n",
    "    6: 'pink'\n",
    "}\n",
    "\n",
    "# Create a scatter plot\n",
    "plt.figure(figsize=(8, 8))  # Adjust the figure size as needed\n",
    "for day, color in color_mapping.items():\n",
    "    day_of_week = df[df['DayOfWeek'] == day]\n",
    "    plt.scatter(day_of_week['X'], day_of_week['Y'], label=day, c=color, s=5)\n",
    "\n",
    "# Customize the plot\n",
    "plt.title('Crime Incidents by Day of the Week')\n",
    "plt.xlabel('Longitude')\n",
    "plt.ylabel('Latitude')\n",
    "plt.legend(title='Day of Week')\n",
    "\n",
    "# Show the plot\n",
    "plt.show()"
   ]
  },
  {
   "cell_type": "markdown",
   "id": "d06fa84f",
   "metadata": {},
   "source": [
    "I noticed that most of the crimes are happening in a small square area, that mostly represents the Las Vegas Strip / Downtown Las Vegas. The pattern seems to be that crimes happen mostly on the weekend, if we can assume that days 4-6 are the weekend."
   ]
  },
  {
   "cell_type": "code",
   "execution_count": 215,
   "id": "1f0daa0d",
   "metadata": {},
   "outputs": [
    {
     "data": {
      "image/png": "[encoded data removed]",
      "text/plain": [
       "<Figure size 800x800 with 1 Axes>"
      ]
     },
     "metadata": {},
     "output_type": "display_data"
    }
   ],
   "source": [
    "# Create a scatter plot\n",
    "plt.figure(figsize=(8, 8))  # Adjust the figure size as needed\n",
    "\n",
    "# Define a custom list of colors based on 'VictimCount'\n",
    "colors = ['red', 'blue', 'green', 'orange', 'purple', 'brown', 'pink']\n",
    "\n",
    "# Create a scatter plot with custom colors based on 'VictimCount' and add labels\n",
    "for count, color in enumerate(colors):\n",
    "    victim_df = df[df['VictimCount'] == count]\n",
    "    plt.scatter(victim_df['X'], victim_df['Y'], label=f'{count}', c=color, s=5)\n",
    "\n",
    "# Customize the plot for number of persons involved\n",
    "plt.title('Crime Incidents by Number of Persons Involved')\n",
    "plt.xlabel('Longitude')\n",
    "plt.ylabel('Latitude')\n",
    "plt.legend(title='# of Victims')\n",
    "\n",
    "plt.show()"
   ]
  },
  {
   "cell_type": "markdown",
   "id": "5e31c351",
   "metadata": {},
   "source": [
    "I noticed that a lot of the crimes involve 0-1 victims."
   ]
  },
  {
   "cell_type": "code",
   "execution_count": 216,
   "id": "cb4c2f5a",
   "metadata": {},
   "outputs": [
    {
     "name": "stdout",
     "output_type": "stream",
     "text": [
      " DayOfWeek  CrimeCount\n",
      "         4          51\n",
      "         3          44\n",
      "         5          43\n",
      "         0          40\n",
      "         1          37\n",
      "         2          32\n",
      "         6          28\n"
     ]
    }
   ],
   "source": [
    "# Group the data by 'DayOfWeek' and count the number of crimes for each day\n",
    "day_counts = df['DayOfWeek'].value_counts().reset_index()\n",
    "\n",
    "# Rename the columns for clarity\n",
    "day_counts.columns = ['DayOfWeek', 'CrimeCount']\n",
    "\n",
    "# Sort the data by the number of crimes in descending order\n",
    "sorted_day_counts = day_counts.sort_values(by='CrimeCount', ascending=False)\n",
    "\n",
    "# Print the result\n",
    "print(sorted_day_counts.to_string(index=False))"
   ]
  },
  {
   "cell_type": "markdown",
   "id": "af19a8fa",
   "metadata": {},
   "source": [
    "The most frequent days were Day 4 (Assuming Thursday), Day 3, and Day 5."
   ]
  }
 ],
 "metadata": {
  "kernelspec": {
   "display_name": "Python 3 (ipykernel)",
   "language": "python",
   "name": "python3"
  },
  "language_info": {
   "codemirror_mode": {
    "name": "ipython",
    "version": 3
   },
   "file_extension": ".py",
   "mimetype": "text/x-python",
   "name": "python",
   "nbconvert_exporter": "python",
   "pygments_lexer": "ipython3",
   "version": "3.11.6"
  }
 },
 "nbformat": 4,
 "nbformat_minor": 5
}
